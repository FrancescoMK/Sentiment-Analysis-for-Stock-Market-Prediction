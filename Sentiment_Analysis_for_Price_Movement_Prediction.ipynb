{
  "nbformat": 4,
  "nbformat_minor": 0,
  "metadata": {
    "colab": {
      "name": "Sentiment Analysis for Price Movement Prediction.ipynb",
      "provenance": [],
      "collapsed_sections": [],
      "include_colab_link": true
    },
    "kernelspec": {
      "name": "python3",
      "display_name": "Python 3"
    },
    "accelerator": "GPU"
  },
  "cells": [
    {
      "cell_type": "markdown",
      "metadata": {
        "id": "view-in-github",
        "colab_type": "text"
      },
      "source": [
        "<a href=\"https://colab.research.google.com/github/FrancescoMK/Sentiment-Analysis-for-Stock-Market-Prediction/blob/master/Sentiment_Analysis_for_Price_Movement_Prediction.ipynb\" target=\"_parent\"><img src=\"https://colab.research.google.com/assets/colab-badge.svg\" alt=\"Open In Colab\"/></a>"
      ]
    },
    {
      "cell_type": "markdown",
      "metadata": {
        "id": "X8xUp5yZDaqJ",
        "colab_type": "text"
      },
      "source": [
        "# **Sentiment Analysis for Price Movement Prediction**\n"
      ]
    },
    {
      "cell_type": "code",
      "metadata": {
        "id": "RUAFG6HWkVF_",
        "colab_type": "code",
        "colab": {}
      },
      "source": [
        "%reload_ext autoreload\n",
        "%autoreload 2\n",
        "%matplotlib inline"
      ],
      "execution_count": null,
      "outputs": []
    },
    {
      "cell_type": "code",
      "metadata": {
        "id": "fuGFanf1BoOF",
        "colab_type": "code",
        "colab": {}
      },
      "source": [
        "from google.colab import drive\n",
        "drive.mount('/content/gdrive', force_remount=True)\n",
        "root_dir = \"/content/gdrive/My Drive/\"\n",
        "base_dir = root_dir + 'fastai-v3/'"
      ],
      "execution_count": null,
      "outputs": []
    },
    {
      "cell_type": "code",
      "metadata": {
        "id": "17L41XboA_se",
        "colab_type": "code",
        "colab": {}
      },
      "source": [
        "from fastai.text import *\n",
        "from fastai.callbacks import *"
      ],
      "execution_count": null,
      "outputs": []
    },
    {
      "cell_type": "markdown",
      "metadata": {
        "id": "M51_Akb3eRh_",
        "colab_type": "text"
      },
      "source": [
        "### **Data Manipulation**"
      ]
    },
    {
      "cell_type": "markdown",
      "metadata": {
        "id": "hW6RU1FoBDZa",
        "colab_type": "text"
      },
      "source": [
        "**Getting the data**"
      ]
    },
    {
      "cell_type": "code",
      "metadata": {
        "id": "dHGQURhlCIbX",
        "colab_type": "code",
        "colab": {}
      },
      "source": [
        "path = f'data/'"
      ],
      "execution_count": null,
      "outputs": []
    },
    {
      "cell_type": "markdown",
      "metadata": {
        "id": "dtzIzBnib756",
        "colab_type": "text"
      },
      "source": [
        "*dowloading the data*"
      ]
    },
    {
      "cell_type": "code",
      "metadata": {
        "id": "njJWm76ECUOv",
        "colab_type": "code",
        "colab": {}
      },
      "source": [
        "!wget https://s3.amazonaws.com/fast-ai-nlp/ag_news_csv.tgz -P {path}"
      ],
      "execution_count": null,
      "outputs": []
    },
    {
      "cell_type": "markdown",
      "metadata": {
        "id": "fprdWBtqb45Z",
        "colab_type": "text"
      },
      "source": [
        "*extracting the data*"
      ]
    },
    {
      "cell_type": "code",
      "metadata": {
        "id": "4D8a6gRACwVw",
        "colab_type": "code",
        "colab": {}
      },
      "source": [
        "!tar -zxf {path}/'ag_news_csv.tgz' -C {path}"
      ],
      "execution_count": null,
      "outputs": []
    },
    {
      "cell_type": "markdown",
      "metadata": {
        "id": "xl84jh9kD6ik",
        "colab_type": "text"
      },
      "source": [
        "**Preparing the data**"
      ]
    },
    {
      "cell_type": "code",
      "metadata": {
        "id": "T_INh72pCzyZ",
        "colab_type": "code",
        "colab": {}
      },
      "source": [
        "path = Path('data/ag_news_csv')\n",
        "path.ls()"
      ],
      "execution_count": null,
      "outputs": []
    },
    {
      "cell_type": "markdown",
      "metadata": {
        "id": "DecPowifdU3H",
        "colab_type": "text"
      },
      "source": [
        "*explore and name .csv files*"
      ]
    },
    {
      "cell_type": "code",
      "metadata": {
        "id": "f1WtiywXDGK7",
        "colab_type": "code",
        "colab": {}
      },
      "source": [
        "df_train = pd.read_csv(path/'train.csv',  names=[\"class\", \"title\", \"description\"])\n",
        "df_train.head()"
      ],
      "execution_count": null,
      "outputs": []
    },
    {
      "cell_type": "code",
      "metadata": {
        "id": "QGQscnwgDJjI",
        "colab_type": "code",
        "colab": {}
      },
      "source": [
        "df_test = pd.read_csv(path/'test.csv',  names=[\"class\", \"title\", \"description\"])\n",
        "df_test.head()"
      ],
      "execution_count": null,
      "outputs": []
    },
    {
      "cell_type": "markdown",
      "metadata": {
        "id": "HwjUkMnpdhG6",
        "colab_type": "text"
      },
      "source": [
        "*take the union of df_train and df_test*"
      ]
    },
    {
      "cell_type": "code",
      "metadata": {
        "id": "q6u_LceJdMPG",
        "colab_type": "code",
        "colab": {}
      },
      "source": [
        "df = df_train.append(df_test, ignore_index=True)"
      ],
      "execution_count": null,
      "outputs": []
    },
    {
      "cell_type": "code",
      "metadata": {
        "id": "QGC-S9f9dRBn",
        "colab_type": "code",
        "colab": {}
      },
      "source": [
        "len(df), len(df_train), len(df_test)"
      ],
      "execution_count": null,
      "outputs": []
    },
    {
      "cell_type": "code",
      "metadata": {
        "id": "MyUqT1gOdeom",
        "colab_type": "code",
        "colab": {}
      },
      "source": [
        "df.head()"
      ],
      "execution_count": null,
      "outputs": []
    },
    {
      "cell_type": "markdown",
      "metadata": {
        "id": "A7t7HLIvEYIm",
        "colab_type": "text"
      },
      "source": [
        "### **Concatenated Language Model**"
      ]
    },
    {
      "cell_type": "markdown",
      "metadata": {
        "id": "-CtPWaHLeu_X",
        "colab_type": "text"
      },
      "source": [
        "**Create data object with the data block API**\n",
        "\n",
        "*convert words into numbers in steps: tokenization and numericalization*"
      ]
    },
    {
      "cell_type": "code",
      "metadata": {
        "id": "3QFIuowGEbOZ",
        "colab_type": "code",
        "colab": {}
      },
      "source": [
        "data_lm = (TextList.from_df(df, path, cols=['title', 'description'])\n",
        "                .split_by_rand_pct(0.1)\n",
        "                .label_for_lm()\n",
        "                .databunch())"
      ],
      "execution_count": null,
      "outputs": []
    },
    {
      "cell_type": "markdown",
      "metadata": {
        "id": "amvZ5JQufFRn",
        "colab_type": "text"
      },
      "source": [
        "*save and load data object*"
      ]
    },
    {
      "cell_type": "code",
      "metadata": {
        "id": "CSuz3TfKEjiB",
        "colab_type": "code",
        "colab": {}
      },
      "source": [
        "data_lm.save('data_lm')"
      ],
      "execution_count": null,
      "outputs": []
    },
    {
      "cell_type": "code",
      "metadata": {
        "id": "8nBSlGSyEnGS",
        "colab_type": "code",
        "colab": {}
      },
      "source": [
        "data_lm = load_data(path, 'data_lm')"
      ],
      "execution_count": null,
      "outputs": []
    },
    {
      "cell_type": "markdown",
      "metadata": {
        "id": "PE2eTCipfrhb",
        "colab_type": "text"
      },
      "source": [
        "*show data object after tokenisation and numericalisation*"
      ]
    },
    {
      "cell_type": "code",
      "metadata": {
        "id": "NxakIBY6E7jA",
        "colab_type": "code",
        "colab": {}
      },
      "source": [
        "len(data_lm.train_ds), len(data_lm.valid_ds)"
      ],
      "execution_count": null,
      "outputs": []
    },
    {
      "cell_type": "code",
      "metadata": {
        "id": "6XdPH74WfoCK",
        "colab_type": "code",
        "colab": {}
      },
      "source": [
        "data_lm.show_batch()"
      ],
      "execution_count": null,
      "outputs": []
    },
    {
      "cell_type": "markdown",
      "metadata": {
        "id": "v0QrCpn-FTd5",
        "colab_type": "text"
      },
      "source": [
        "*datasets are now represented through tokenized and numericalised text*"
      ]
    },
    {
      "cell_type": "code",
      "metadata": {
        "id": "JvKAb1mGFWbU",
        "colab_type": "code",
        "colab": {}
      },
      "source": [
        "data_lm.train_ds[100][0]"
      ],
      "execution_count": null,
      "outputs": []
    },
    {
      "cell_type": "markdown",
      "metadata": {
        "id": "AjQq4iWzhJEr",
        "colab_type": "text"
      },
      "source": [
        "*correspondance from ids to tokens is stored in the vocab*\n",
        "*attribute of the datasets, in a dictionary called itos*"
      ]
    },
    {
      "cell_type": "code",
      "metadata": {
        "id": "SBInrfBkg7NF",
        "colab_type": "code",
        "colab": {}
      },
      "source": [
        "data_lm.vocab.itos[:10]"
      ],
      "execution_count": null,
      "outputs": []
    },
    {
      "cell_type": "code",
      "metadata": {
        "id": "pUEPZ-y9h2BV",
        "colab_type": "code",
        "colab": {}
      },
      "source": [
        "data_lm.batch_size"
      ],
      "execution_count": null,
      "outputs": []
    },
    {
      "cell_type": "markdown",
      "metadata": {
        "id": "oxw9qIWyiIQJ",
        "colab_type": "text"
      },
      "source": [
        "**Pretrained model on wiki data**\n",
        "\n",
        "\n",
        "*The pretrained model is downloaded by specifying the arch=AWD_LSTM and*\n",
        "\n",
        "*pretrained=True, so fastai automatically downloads the pretrained model*"
      ]
    },
    {
      "cell_type": "code",
      "metadata": {
        "id": "77yS_badh9YY",
        "colab_type": "code",
        "colab": {}
      },
      "source": [
        "learn = language_model_learner(data_lm, arch=AWD_LSTM,  drop_mult=0)"
      ],
      "execution_count": null,
      "outputs": []
    },
    {
      "cell_type": "code",
      "metadata": {
        "id": "5DVtNIbriC27",
        "colab_type": "code",
        "colab": {}
      },
      "source": [
        "learn.lr_find()"
      ],
      "execution_count": null,
      "outputs": []
    },
    {
      "cell_type": "code",
      "metadata": {
        "id": "V7HaW93Ii556",
        "colab_type": "code",
        "colab": {}
      },
      "source": [
        "learn.recorder.plot(skip_end=15)"
      ],
      "execution_count": null,
      "outputs": []
    },
    {
      "cell_type": "markdown",
      "metadata": {
        "id": "ADyNaWTBpnAJ",
        "colab_type": "text"
      },
      "source": [
        "*saving the best model after every epoch*"
      ]
    },
    {
      "cell_type": "code",
      "metadata": {
        "id": "OAfu3L6gj3xd",
        "colab_type": "code",
        "colab": {}
      },
      "source": [
        "learn.callback_fns.append(partial(SaveModelCallback, name='lm-stage-1'))"
      ],
      "execution_count": null,
      "outputs": []
    },
    {
      "cell_type": "markdown",
      "metadata": {
        "id": "XQ2fl5LjFzOi",
        "colab_type": "text"
      },
      "source": [
        "**Fit model**"
      ]
    },
    {
      "cell_type": "code",
      "metadata": {
        "id": "ZtaweXT0kHXH",
        "colab_type": "code",
        "colab": {}
      },
      "source": [
        "learn.fit_one_cycle(3, 3.98E-02)"
      ],
      "execution_count": null,
      "outputs": []
    },
    {
      "cell_type": "code",
      "metadata": {
        "id": "QHP6lNdDpv--",
        "colab_type": "code",
        "colab": {}
      },
      "source": [
        "learn.load('lm-stage-1');"
      ],
      "execution_count": null,
      "outputs": []
    },
    {
      "cell_type": "markdown",
      "metadata": {
        "id": "PydLs6uGqKSV",
        "colab_type": "text"
      },
      "source": [
        "*fit model over 7 epochs*"
      ]
    },
    {
      "cell_type": "code",
      "metadata": {
        "id": "eUSoNXCGqAvs",
        "colab_type": "code",
        "colab": {}
      },
      "source": [
        "# learn.callback_fns.pop()\n",
        "# learn.callback_fns.append(partial(SaveModelCallback, name='lm-stage-2'))"
      ],
      "execution_count": null,
      "outputs": []
    },
    {
      "cell_type": "code",
      "metadata": {
        "id": "XbofFd3OqDat",
        "colab_type": "code",
        "colab": {}
      },
      "source": [
        "# learn.fit_one_cycle(7, 3.98E-02)"
      ],
      "execution_count": null,
      "outputs": []
    },
    {
      "cell_type": "code",
      "metadata": {
        "id": "GwuA0QtyqWMp",
        "colab_type": "code",
        "colab": {}
      },
      "source": [
        "# learn.load('lm-stage-2');"
      ],
      "execution_count": null,
      "outputs": []
    },
    {
      "cell_type": "markdown",
      "metadata": {
        "id": "6eafFOOTqlkQ",
        "colab_type": "text"
      },
      "source": [
        "**Unfreeze and fine tune all the layers**"
      ]
    },
    {
      "cell_type": "code",
      "metadata": {
        "id": "fKnWRQQ0qcrZ",
        "colab_type": "code",
        "colab": {}
      },
      "source": [
        "learn.unfreeze()"
      ],
      "execution_count": null,
      "outputs": []
    },
    {
      "cell_type": "code",
      "metadata": {
        "id": "_TiQK3p9qfUy",
        "colab_type": "code",
        "colab": {}
      },
      "source": [
        "learn.lr_find()"
      ],
      "execution_count": null,
      "outputs": []
    },
    {
      "cell_type": "code",
      "metadata": {
        "id": "WGoCra2OquXz",
        "colab_type": "code",
        "colab": {}
      },
      "source": [
        "learn.recorder.plot()"
      ],
      "execution_count": null,
      "outputs": []
    },
    {
      "cell_type": "markdown",
      "metadata": {
        "id": "ztennuFUrZNE",
        "colab_type": "text"
      },
      "source": [
        "*fit the fine tuned model*"
      ]
    },
    {
      "cell_type": "code",
      "metadata": {
        "id": "VtmhvnInq9gz",
        "colab_type": "code",
        "colab": {}
      },
      "source": [
        "# learn.callback_fns.pop()\n",
        "learn.callback_fns.append(partial(SaveModelCallback, name='lm-unfreeze-1'))"
      ],
      "execution_count": null,
      "outputs": []
    },
    {
      "cell_type": "code",
      "metadata": {
        "id": "4C_LPlverA1C",
        "colab_type": "code",
        "colab": {}
      },
      "source": [
        "learn.fit_one_cycle(3, 3e-04)"
      ],
      "execution_count": null,
      "outputs": []
    },
    {
      "cell_type": "markdown",
      "metadata": {
        "id": "txh-Y8xxwoo0",
        "colab_type": "text"
      },
      "source": [
        "**Predict and Save**"
      ]
    },
    {
      "cell_type": "markdown",
      "metadata": {
        "id": "I9Nk_zgdrx9l",
        "colab_type": "text"
      },
      "source": [
        "*make prediction out of model*"
      ]
    },
    {
      "cell_type": "code",
      "metadata": {
        "id": "nFt5v7nfrHHu",
        "colab_type": "code",
        "colab": {}
      },
      "source": [
        "learn.load('lm-unfreeze-1');"
      ],
      "execution_count": null,
      "outputs": []
    },
    {
      "cell_type": "code",
      "metadata": {
        "id": "s84kU_nGrIQ5",
        "colab_type": "code",
        "colab": {}
      },
      "source": [
        "TEXT = \"This year is going to challenge\"\n",
        "N_WORDS = 40\n",
        "N_SENTENCES = 2"
      ],
      "execution_count": null,
      "outputs": []
    },
    {
      "cell_type": "code",
      "metadata": {
        "id": "SZuK9JfnrNU7",
        "colab_type": "code",
        "colab": {}
      },
      "source": [
        "print(\"\\n\".join(learn.predict(TEXT, N_WORDS, temperature=0.75) for _ in range(N_SENTENCES)))"
      ],
      "execution_count": null,
      "outputs": []
    },
    {
      "cell_type": "markdown",
      "metadata": {
        "id": "kwBvfKwlr9ar",
        "colab_type": "text"
      },
      "source": [
        "*save the model and its encoder responsible* \n",
        "\n",
        "*for creating and updating the hidden state*"
      ]
    },
    {
      "cell_type": "code",
      "metadata": {
        "id": "WO8OnVjHrQ0e",
        "colab_type": "code",
        "colab": {}
      },
      "source": [
        "learn.save_encoder('fine_tuned_enc')"
      ],
      "execution_count": null,
      "outputs": []
    },
    {
      "cell_type": "markdown",
      "metadata": {
        "id": "J60Jxd7qs-Om",
        "colab_type": "text"
      },
      "source": [
        "### **Sentiment Classifier**"
      ]
    },
    {
      "cell_type": "markdown",
      "metadata": {
        "id": "zSd1TuhKun5w",
        "colab_type": "text"
      },
      "source": [
        "**Create a new data object**"
      ]
    },
    {
      "cell_type": "code",
      "metadata": {
        "id": "5IM8KdnCtK78",
        "colab_type": "code",
        "colab": {}
      },
      "source": [
        "path = untar_data(URLs.IMDB)"
      ],
      "execution_count": null,
      "outputs": []
    },
    {
      "cell_type": "markdown",
      "metadata": {
        "id": "fyGrAr8uu_QF",
        "colab_type": "text"
      },
      "source": [
        "*only grabs the labelled data and keeps those labels*"
      ]
    },
    {
      "cell_type": "code",
      "metadata": {
        "id": "8b2mlBK3tgpx",
        "colab_type": "code",
        "colab": {}
      },
      "source": [
        "data_clas = (TextList.from_folder(path, vocab=data_lm.vocab)\n",
        "             #grab all the text files in path\n",
        "             .split_by_folder(valid='test')\n",
        "             #split by train and valid folder (that only keeps 'train' and 'test' so no need to filter)\n",
        "             .label_from_folder(classes=['neg', 'pos'])\n",
        "             #label them all with their folders\n",
        "             .databunch(bs=bs))\n",
        "\n",
        "data_clas.save('data_clas.pkl')"
      ],
      "execution_count": null,
      "outputs": []
    },
    {
      "cell_type": "code",
      "metadata": {
        "id": "ECNagtvPtlML",
        "colab_type": "code",
        "colab": {}
      },
      "source": [
        "data_clas = load_data(path, 'data_clas.pkl', bs=bs)"
      ],
      "execution_count": null,
      "outputs": []
    },
    {
      "cell_type": "code",
      "metadata": {
        "id": "NUES_eU0tqFi",
        "colab_type": "code",
        "colab": {}
      },
      "source": [
        "data_clas.show_batch()"
      ],
      "execution_count": null,
      "outputs": []
    },
    {
      "cell_type": "markdown",
      "metadata": {
        "id": "cI9o4DpdxG9k",
        "colab_type": "text"
      },
      "source": [
        "**Model Creation**"
      ]
    },
    {
      "cell_type": "markdown",
      "metadata": {
        "id": "LEvRE5GxvSQN",
        "colab_type": "text"
      },
      "source": [
        "*create a model to classify those reviews and load the encoder*"
      ]
    },
    {
      "cell_type": "code",
      "metadata": {
        "id": "TqVoeJtSttUW",
        "colab_type": "code",
        "colab": {}
      },
      "source": [
        "learn = text_classifier_learner(data_clas, AWD_LSTM, drop_mult=0.5)\n",
        "learn.load_encoder('fine_tuned_enc')"
      ],
      "execution_count": null,
      "outputs": []
    },
    {
      "cell_type": "code",
      "metadata": {
        "id": "EPdK-GB3tvhh",
        "colab_type": "code",
        "colab": {}
      },
      "source": [
        "learn.lr_find()"
      ],
      "execution_count": null,
      "outputs": []
    },
    {
      "cell_type": "code",
      "metadata": {
        "id": "vmeCSC73txoG",
        "colab_type": "code",
        "colab": {}
      },
      "source": [
        "learn.recorder.plot()"
      ],
      "execution_count": null,
      "outputs": []
    },
    {
      "cell_type": "markdown",
      "metadata": {
        "id": "4TRU9lctxPHV",
        "colab_type": "text"
      },
      "source": [
        "*first fit*"
      ]
    },
    {
      "cell_type": "code",
      "metadata": {
        "id": "D8-U-N3It0Gv",
        "colab_type": "code",
        "colab": {}
      },
      "source": [
        "learn.fit_one_cycle(1, 2e-2, moms=(0.8,0.7))"
      ],
      "execution_count": null,
      "outputs": []
    },
    {
      "cell_type": "code",
      "metadata": {
        "id": "BmBMyOLAt3JM",
        "colab_type": "code",
        "colab": {}
      },
      "source": [
        "learn.save('first')"
      ],
      "execution_count": null,
      "outputs": []
    },
    {
      "cell_type": "code",
      "metadata": {
        "id": "YAGOwSrVt5bo",
        "colab_type": "code",
        "colab": {}
      },
      "source": [
        "learn.load('first');"
      ],
      "execution_count": null,
      "outputs": []
    },
    {
      "cell_type": "markdown",
      "metadata": {
        "id": "-OpYCXULxT0p",
        "colab_type": "text"
      },
      "source": [
        "*second fit*"
      ]
    },
    {
      "cell_type": "code",
      "metadata": {
        "id": "d30CaFwit_Da",
        "colab_type": "code",
        "colab": {}
      },
      "source": [
        "learn.freeze_to(-2)\n",
        "learn.fit_one_cycle(1, slice(1e-2/(2.6**4),1e-2), moms=(0.8,0.7))"
      ],
      "execution_count": null,
      "outputs": []
    },
    {
      "cell_type": "code",
      "metadata": {
        "id": "TsDZyO3vuCdX",
        "colab_type": "code",
        "colab": {}
      },
      "source": [
        "learn.save('second')"
      ],
      "execution_count": null,
      "outputs": []
    },
    {
      "cell_type": "code",
      "metadata": {
        "id": "LyXdqpKzuEfq",
        "colab_type": "code",
        "colab": {}
      },
      "source": [
        "learn.load('second');"
      ],
      "execution_count": null,
      "outputs": []
    },
    {
      "cell_type": "markdown",
      "metadata": {
        "id": "F4rvviS4xW_k",
        "colab_type": "text"
      },
      "source": [
        "*third fit*"
      ]
    },
    {
      "cell_type": "code",
      "metadata": {
        "id": "Aa9tphKiuG4r",
        "colab_type": "code",
        "colab": {}
      },
      "source": [
        "learn.freeze_to(-3)\n",
        "learn.fit_one_cycle(1, slice(5e-3/(2.6**4),5e-3), moms=(0.8,0.7))"
      ],
      "execution_count": null,
      "outputs": []
    },
    {
      "cell_type": "code",
      "metadata": {
        "id": "G-IzDa7huI_C",
        "colab_type": "code",
        "colab": {}
      },
      "source": [
        "learn.save('third')"
      ],
      "execution_count": null,
      "outputs": []
    },
    {
      "cell_type": "code",
      "metadata": {
        "id": "TwjLJSmouJl8",
        "colab_type": "code",
        "colab": {}
      },
      "source": [
        "learn.load('third');"
      ],
      "execution_count": null,
      "outputs": []
    },
    {
      "cell_type": "markdown",
      "metadata": {
        "id": "s0i3HE0lxcGL",
        "colab_type": "text"
      },
      "source": [
        "**Prediction**"
      ]
    },
    {
      "cell_type": "markdown",
      "metadata": {
        "id": "QocP0l9XxqCa",
        "colab_type": "text"
      },
      "source": [
        "*unfreeze and fit*"
      ]
    },
    {
      "cell_type": "code",
      "metadata": {
        "id": "_gfix8D-uP3w",
        "colab_type": "code",
        "colab": {}
      },
      "source": [
        "learn.unfreeze()\n",
        "learn.fit_one_cycle(2, slice(1e-3/(2.6**4),1e-3), moms=(0.8,0.7))"
      ],
      "execution_count": null,
      "outputs": []
    },
    {
      "cell_type": "code",
      "metadata": {
        "id": "OTH95JLtx6R2",
        "colab_type": "code",
        "colab": {}
      },
      "source": [
        "learn.save('unfrozen')"
      ],
      "execution_count": null,
      "outputs": []
    },
    {
      "cell_type": "code",
      "metadata": {
        "id": "QtDluQj2x_9m",
        "colab_type": "code",
        "colab": {}
      },
      "source": [
        "learn.load('unfrozen')"
      ],
      "execution_count": null,
      "outputs": []
    },
    {
      "cell_type": "markdown",
      "metadata": {
        "id": "tuewV7FYyH4L",
        "colab_type": "text"
      },
      "source": [
        "*make prediction*"
      ]
    },
    {
      "cell_type": "code",
      "metadata": {
        "id": "fZiDh0GXuUv1",
        "colab_type": "code",
        "colab": {}
      },
      "source": [
        "learn.predict(\"I really loved that movie, it was awesome!\");"
      ],
      "execution_count": null,
      "outputs": []
    },
    {
      "cell_type": "markdown",
      "metadata": {
        "id": "W_KDxi3aMion",
        "colab_type": "text"
      },
      "source": [
        "**Export Model for Reuters**"
      ]
    },
    {
      "cell_type": "code",
      "metadata": {
        "id": "qZpKzrJlMgqA",
        "colab_type": "code",
        "colab": {}
      },
      "source": [
        "learn.export(file = 'export_clas.pkl')"
      ],
      "execution_count": null,
      "outputs": []
    },
    {
      "cell_type": "markdown",
      "metadata": {
        "id": "APbo4AmDyxXL",
        "colab_type": "text"
      },
      "source": [
        "### **Apply to Stocks (Draft)**"
      ]
    },
    {
      "cell_type": "markdown",
      "metadata": {
        "id": "_w_RMxfnHgSU",
        "colab_type": "text"
      },
      "source": [
        "**Get Reuters Data**"
      ]
    },
    {
      "cell_type": "code",
      "metadata": {
        "id": "SnQbHDwzC8OH",
        "colab_type": "code",
        "colab": {}
      },
      "source": [
        "import pandas as pd"
      ],
      "execution_count": null,
      "outputs": []
    },
    {
      "cell_type": "code",
      "metadata": {
        "id": "atoEbgwNx4fD",
        "colab_type": "code",
        "colab": {}
      },
      "source": [
        "from google.colab import files\n",
        "data_to_load = files.upload()"
      ],
      "execution_count": null,
      "outputs": []
    },
    {
      "cell_type": "code",
      "metadata": {
        "id": "ZidYdHfRC1TG",
        "colab_type": "code",
        "colab": {}
      },
      "source": [
        "import io\n",
        "\n",
        "df_predict = pd.read_csv(io.BytesIO(uploaded['Reuters_Cleaned_V2.csv']), names=[\"ID\", \"Source\", \"Text\"])\n",
        "df_predict.head()"
      ],
      "execution_count": null,
      "outputs": []
    },
    {
      "cell_type": "markdown",
      "metadata": {
        "id": "F723oAgrHy-o",
        "colab_type": "text"
      },
      "source": [
        "**Apply Model to Data**"
      ]
    },
    {
      "cell_type": "code",
      "metadata": {
        "id": "sPSsRferG11b",
        "colab_type": "code",
        "colab": {}
      },
      "source": [
        "learn = load_learner(df_predict, file = 'export_clas.pkl')"
      ],
      "execution_count": null,
      "outputs": []
    },
    {
      "cell_type": "code",
      "metadata": {
        "id": "cQr54cLsNYCd",
        "colab_type": "code",
        "colab": {}
      },
      "source": [
        "learn.data.add_test"
      ],
      "execution_count": null,
      "outputs": []
    }
  ]
}